{
 "cells": [
  {
   "cell_type": "code",
   "execution_count": 1,
   "metadata": {},
   "outputs": [],
   "source": [
    "import sys\n",
    "import os\n",
    "import dotenv\n",
    "from pathlib import Path\n",
    "path = Path(os.path.abspath(os.curdir))\n",
    "env =  str(path.parent.absolute()) + \"/src/.env\"\n",
    "config = dotenv.dotenv_values(env)\n",
    "sys.path.insert(0, os.path.abspath('..'))\n",
    "from src.config import ForexPairEnum, PeriodEnum, OrderTypeEnum\n",
    "from src.fxcm_connect.fxcm_connect import FXCMConnect\n",
    "from src.data.data import Data\n",
    "fxcm = FXCMConnect(config)\n",
    "\n",
    "data = fxcm.get_candle_data(ForexPairEnum.USDCAD, PeriodEnum.HOUR_1)\n",
    "data_obj = Data(data)\n",
    "data = data_obj.get_refined_data()"
   ]
  },
  {
   "cell_type": "code",
   "execution_count": 2,
   "metadata": {},
   "outputs": [],
   "source": [
    "from src.config import ForexPairEnum, PeriodEnum, OrderTypeEnum"
   ]
  },
  {
   "cell_type": "code",
   "execution_count": 3,
   "metadata": {},
   "outputs": [
    {
     "name": "stderr",
     "output_type": "stream",
     "text": [
      "|ERROR|2022-12-23 00:58:50,059|Socket returns unknown error.\n"
     ]
    },
    {
     "ename": "ServerError",
     "evalue": "Can not connect to FXCM Server.",
     "output_type": "error",
     "traceback": [
      "\u001b[0;31m---------------------------------------------------------------------------\u001b[0m",
      "\u001b[0;31mServerError\u001b[0m                               Traceback (most recent call last)",
      "Cell \u001b[0;32mIn[3], line 1\u001b[0m\n\u001b[0;32m----> 1\u001b[0m fxcm\u001b[39m.\u001b[39;49mopen_connection()\n",
      "File \u001b[0;32m~/Documents/repos/fxcm/src/fxcm_connect/fxcm_connect.py:35\u001b[0m, in \u001b[0;36mFXCMConnect.open_connection\u001b[0;34m(self)\u001b[0m\n\u001b[1;32m     32\u001b[0m \u001b[39mdef\u001b[39;00m \u001b[39mopen_connection\u001b[39m(\u001b[39mself\u001b[39m) \u001b[39m-\u001b[39m\u001b[39m>\u001b[39m \u001b[39mNone\u001b[39;00m:\n\u001b[1;32m     33\u001b[0m     \u001b[39m\"\"\"Open the connection\"\"\"\u001b[39;00m\n\u001b[0;32m---> 35\u001b[0m     \u001b[39mself\u001b[39m\u001b[39m.\u001b[39mcon \u001b[39m=\u001b[39m fxcmpy(\n\u001b[1;32m     36\u001b[0m         access_token\u001b[39m=\u001b[39;49m\u001b[39mself\u001b[39;49m\u001b[39m.\u001b[39;49mtoken,\n\u001b[1;32m     37\u001b[0m         log_level\u001b[39m=\u001b[39;49m\u001b[39m\"\u001b[39;49m\u001b[39merror\u001b[39;49m\u001b[39m\"\u001b[39;49m,\n\u001b[1;32m     38\u001b[0m     )\n",
      "File \u001b[0;32m/Library/Frameworks/Python.framework/Versions/3.11/lib/python3.11/site-packages/fxcmpy/fxcmpy.py:220\u001b[0m, in \u001b[0;36mfxcmpy.__init__\u001b[0;34m(self, access_token, config_file, log_file, log_level, server, proxy_url, proxy_port, proxy_type)\u001b[0m\n\u001b[1;32m    218\u001b[0m \u001b[39melif\u001b[39;00m \u001b[39mself\u001b[39m\u001b[39m.\u001b[39mconnection_status \u001b[39m==\u001b[39m \u001b[39m'\u001b[39m\u001b[39maborted\u001b[39m\u001b[39m'\u001b[39m:\n\u001b[1;32m    219\u001b[0m     \u001b[39mself\u001b[39m\u001b[39m.\u001b[39mclose()\n\u001b[0;32m--> 220\u001b[0m     \u001b[39mraise\u001b[39;00m ServerError(\u001b[39m'\u001b[39m\u001b[39mCan not connect to FXCM Server.\u001b[39m\u001b[39m'\u001b[39m)\n\u001b[1;32m    222\u001b[0m \u001b[39mself\u001b[39m\u001b[39m.\u001b[39m__collect_account_ids__()\n\u001b[1;32m    223\u001b[0m \u001b[39mself\u001b[39m\u001b[39m.\u001b[39mdefault_account \u001b[39m=\u001b[39m \u001b[39mself\u001b[39m\u001b[39m.\u001b[39maccount_ids[\u001b[39m0\u001b[39m]\n",
      "\u001b[0;31mServerError\u001b[0m: Can not connect to FXCM Server."
     ]
    }
   ],
   "source": [
    "fxcm.open_connection()"
   ]
  },
  {
   "cell_type": "code",
   "execution_count": 9,
   "metadata": {},
   "outputs": [],
   "source": [
    "h = fxcm.open_trade(instrument=ForexPairEnum.USDJPY, is_buy=False, is_pips=True, stop=-8, limit=8, amount=1, order_type=OrderTypeEnum.AT_MARKET)\n",
    "\n"
   ]
  },
  {
   "cell_type": "code",
   "execution_count": 11,
   "metadata": {},
   "outputs": [],
   "source": [
    "a =fxcm.get_open_positions()\n"
   ]
  },
  {
   "cell_type": "code",
   "execution_count": 32,
   "metadata": {},
   "outputs": [
    {
     "data": {
      "text/plain": [
       "numpy.int64"
      ]
     },
     "execution_count": 32,
     "metadata": {},
     "output_type": "execute_result"
    }
   ],
   "source": [
    "type(a.iloc[-1][\"amountK\"])"
   ]
  },
  {
   "cell_type": "code",
   "execution_count": 33,
   "metadata": {},
   "outputs": [
    {
     "data": {
      "text/plain": [
       "t                                      1\n",
       "ratePrecision                          3\n",
       "tradeId                        123601176\n",
       "accountName                     00913952\n",
       "accountId                         913952\n",
       "roll                                   0\n",
       "com                                    0\n",
       "open                             132.309\n",
       "valueDate                               \n",
       "grossPL                         -0.38287\n",
       "close                             132.37\n",
       "visiblePL                           -6.1\n",
       "isDisabled                         False\n",
       "currency                         USD/JPY\n",
       "isBuy                              False\n",
       "amountK                                1\n",
       "currencyPoint                    0.06278\n",
       "time                      12222022220129\n",
       "usedMargin                         16.65\n",
       "orderId                        220946275\n",
       "OpenOrderRequestTXT                 None\n",
       "OpenOrderReqID         Request-535643011\n",
       "TradeIDOrigin                       None\n",
       "child_trailingStop                  none\n",
       "child_trailing                        -1\n",
       "stop                              132.45\n",
       "stopMove                               0\n",
       "limit                            132.229\n",
       "Name: 1, dtype: object"
      ]
     },
     "execution_count": 33,
     "metadata": {},
     "output_type": "execute_result"
    }
   ],
   "source": [
    "a.iloc[-1]"
   ]
  },
  {
   "cell_type": "code",
   "execution_count": 15,
   "metadata": {},
   "outputs": [],
   "source": [
    "a.to_csv(\"open_positions.csv\")"
   ]
  },
  {
   "cell_type": "code",
   "execution_count": null,
   "metadata": {},
   "outputs": [],
   "source": [
    "from src.indicators.indicators import Indicators\n",
    "\n",
    "ind = Indicators()\n",
    "bollinger = ind.get_bollinger(data)"
   ]
  },
  {
   "cell_type": "code",
   "execution_count": null,
   "metadata": {},
   "outputs": [],
   "source": [
    "from pylab import plt\n",
    "plt.style.use('seaborn')\n",
    "%matplotlib inline\n",
    "data.drop(\"tickqty\", inplace=True, axis=1)\n",
    "data.plot(figsize=(10, 6), lw=0.8);"
   ]
  }
 ],
 "metadata": {
  "kernelspec": {
   "display_name": "Python 3",
   "language": "python",
   "name": "python3"
  },
  "language_info": {
   "codemirror_mode": {
    "name": "ipython",
    "version": 3
   },
   "file_extension": ".py",
   "mimetype": "text/x-python",
   "name": "python",
   "nbconvert_exporter": "python",
   "pygments_lexer": "ipython3",
   "version": "3.11.1"
  },
  "orig_nbformat": 4,
  "vscode": {
   "interpreter": {
    "hash": "aee8b7b246df8f9039afb4144a1f6fd8d2ca17a180786b69acc140d282b71a49"
   }
  }
 },
 "nbformat": 4,
 "nbformat_minor": 2
}
