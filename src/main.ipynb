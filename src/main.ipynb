{
 "cells": [
  {
   "cell_type": "code",
   "execution_count": 3,
   "metadata": {},
   "outputs": [
    {
     "name": "stderr",
     "output_type": "stream",
     "text": [
      "/var/folders/_4/2g0mkmw54ws5bzxvctngz0z00000gn/T/ipykernel_8466/2075533338.py:14: RuntimeWarning: coroutine 'OandaConnect.get_candle_data' was never awaited\n",
      "  data = await fxcm.get_candle_data(ForexPairEnum.USDCAD, PeriodEnum.HOUR_1)\n",
      "RuntimeWarning: Enable tracemalloc to get the object allocation traceback\n"
     ]
    },
    {
     "name": "stdout",
     "output_type": "stream",
     "text": [
      "{'instrument': 'EUR_USD', 'granularity': 'H1', 'candles': [{'complete': True, 'volume': 6496, 'time': '2023-06-21T15:00:00.000000000Z', 'mid': {'o': '1.09547', 'h': '1.09564', 'l': '1.09434', 'c': '1.09508'}}, {'complete': True, 'volume': 4097, 'time': '2023-06-21T16:00:00.000000000Z', 'mid': {'o': '1.09506', 'h': '1.09738', 'l': '1.09497', 'c': '1.09706'}}, {'complete': True, 'volume': 3957, 'time': '2023-06-21T17:00:00.000000000Z', 'mid': {'o': '1.09704', 'h': '1.09794', 'l': '1.09672', 'c': '1.09774'}}, {'complete': True, 'volume': 3477, 'time': '2023-06-21T18:00:00.000000000Z', 'mid': {'o': '1.09774', 'h': '1.09901', 'l': '1.09762', 'c': '1.09847'}}, {'complete': True, 'volume': 2565, 'time': '2023-06-21T19:00:00.000000000Z', 'mid': {'o': '1.09844', 'h': '1.09895', 'l': '1.09816', 'c': '1.09880'}}, {'complete': True, 'volume': 1407, 'time': '2023-06-21T20:00:00.000000000Z', 'mid': {'o': '1.09878', 'h': '1.09908', 'l': '1.09851', 'c': '1.09866'}}, {'complete': True, 'volume': 1105, 'time': '2023-06-21T21:00:00.000000000Z', 'mid': {'o': '1.09866', 'h': '1.09869', 'l': '1.09838', 'c': '1.09856'}}, {'complete': True, 'volume': 783, 'time': '2023-06-21T22:00:00.000000000Z', 'mid': {'o': '1.09840', 'h': '1.09909', 'l': '1.09840', 'c': '1.09906'}}, {'complete': True, 'volume': 992, 'time': '2023-06-21T23:00:00.000000000Z', 'mid': {'o': '1.09906', 'h': '1.09924', 'l': '1.09898', 'c': '1.09916'}}, {'complete': True, 'volume': 2077, 'time': '2023-06-22T00:00:00.000000000Z', 'mid': {'o': '1.09918', 'h': '1.09922', 'l': '1.09866', 'c': '1.09884'}}, {'complete': True, 'volume': 1855, 'time': '2023-06-22T01:00:00.000000000Z', 'mid': {'o': '1.09884', 'h': '1.09951', 'l': '1.09871', 'c': '1.09938'}}, {'complete': True, 'volume': 1783, 'time': '2023-06-22T02:00:00.000000000Z', 'mid': {'o': '1.09936', 'h': '1.09936', 'l': '1.09884', 'c': '1.09934'}}, {'complete': True, 'volume': 1369, 'time': '2023-06-22T03:00:00.000000000Z', 'mid': {'o': '1.09935', 'h': '1.09946', 'l': '1.09912', 'c': '1.09930'}}, {'complete': True, 'volume': 1835, 'time': '2023-06-22T04:00:00.000000000Z', 'mid': {'o': '1.09931', 'h': '1.09940', 'l': '1.09866', 'c': '1.09871'}}, {'complete': True, 'volume': 2340, 'time': '2023-06-22T05:00:00.000000000Z', 'mid': {'o': '1.09874', 'h': '1.09905', 'l': '1.09849', 'c': '1.09858'}}, {'complete': True, 'volume': 3099, 'time': '2023-06-22T06:00:00.000000000Z', 'mid': {'o': '1.09862', 'h': '1.09906', 'l': '1.09808', 'c': '1.09828'}}, {'complete': True, 'volume': 5906, 'time': '2023-06-22T07:00:00.000000000Z', 'mid': {'o': '1.09828', 'h': '1.10001', 'l': '1.09798', 'c': '1.09944'}}, {'complete': True, 'volume': 4852, 'time': '2023-06-22T08:00:00.000000000Z', 'mid': {'o': '1.09944', 'h': '1.10037', 'l': '1.09875', 'c': '1.09930'}}, {'complete': True, 'volume': 3464, 'time': '2023-06-22T09:00:00.000000000Z', 'mid': {'o': '1.09930', 'h': '1.10040', 'l': '1.09922', 'c': '1.10020'}}, {'complete': True, 'volume': 3409, 'time': '2023-06-22T10:00:00.000000000Z', 'mid': {'o': '1.10020', 'h': '1.10083', 'l': '1.10004', 'c': '1.10046'}}, {'complete': True, 'volume': 7577, 'time': '2023-06-22T11:00:00.000000000Z', 'mid': {'o': '1.10046', 'h': '1.10120', 'l': '1.09880', 'c': '1.09892'}}, {'complete': True, 'volume': 6763, 'time': '2023-06-22T12:00:00.000000000Z', 'mid': {'o': '1.09890', 'h': '1.10020', 'l': '1.09802', 'c': '1.09826'}}, {'complete': True, 'volume': 8027, 'time': '2023-06-22T13:00:00.000000000Z', 'mid': {'o': '1.09824', 'h': '1.09852', 'l': '1.09682', 'c': '1.09812'}}, {'complete': True, 'volume': 7805, 'time': '2023-06-22T14:00:00.000000000Z', 'mid': {'o': '1.09812', 'h': '1.09892', 'l': '1.09584', 'c': '1.09592'}}, {'complete': True, 'volume': 6120, 'time': '2023-06-22T15:00:00.000000000Z', 'mid': {'o': '1.09592', 'h': '1.09668', 'l': '1.09522', 'c': '1.09527'}}, {'complete': True, 'volume': 3615, 'time': '2023-06-22T16:00:00.000000000Z', 'mid': {'o': '1.09526', 'h': '1.09570', 'l': '1.09485', 'c': '1.09546'}}, {'complete': True, 'volume': 3168, 'time': '2023-06-22T17:00:00.000000000Z', 'mid': {'o': '1.09548', 'h': '1.09582', 'l': '1.09500', 'c': '1.09573'}}, {'complete': True, 'volume': 2556, 'time': '2023-06-22T18:00:00.000000000Z', 'mid': {'o': '1.09576', 'h': '1.09604', 'l': '1.09511', 'c': '1.09591'}}, {'complete': True, 'volume': 2645, 'time': '2023-06-22T19:00:00.000000000Z', 'mid': {'o': '1.09592', 'h': '1.09617', 'l': '1.09544', 'c': '1.09582'}}, {'complete': True, 'volume': 1294, 'time': '2023-06-22T20:00:00.000000000Z', 'mid': {'o': '1.09583', 'h': '1.09586', 'l': '1.09532', 'c': '1.09558'}}, {'complete': True, 'volume': 1036, 'time': '2023-06-22T21:00:00.000000000Z', 'mid': {'o': '1.09584', 'h': '1.09594', 'l': '1.09552', 'c': '1.09563'}}, {'complete': True, 'volume': 737, 'time': '2023-06-22T22:00:00.000000000Z', 'mid': {'o': '1.09563', 'h': '1.09563', 'l': '1.09528', 'c': '1.09534'}}, {'complete': True, 'volume': 1476, 'time': '2023-06-22T23:00:00.000000000Z', 'mid': {'o': '1.09537', 'h': '1.09577', 'l': '1.09534', 'c': '1.09555'}}, {'complete': True, 'volume': 2421, 'time': '2023-06-23T00:00:00.000000000Z', 'mid': {'o': '1.09555', 'h': '1.09587', 'l': '1.09528', 'c': '1.09553'}}, {'complete': True, 'volume': 3171, 'time': '2023-06-23T01:00:00.000000000Z', 'mid': {'o': '1.09552', 'h': '1.09562', 'l': '1.09458', 'c': '1.09468'}}, {'complete': True, 'volume': 2792, 'time': '2023-06-23T02:00:00.000000000Z', 'mid': {'o': '1.09468', 'h': '1.09468', 'l': '1.09322', 'c': '1.09386'}}, {'complete': True, 'volume': 1910, 'time': '2023-06-23T03:00:00.000000000Z', 'mid': {'o': '1.09386', 'h': '1.09406', 'l': '1.09348', 'c': '1.09358'}}, {'complete': True, 'volume': 2371, 'time': '2023-06-23T04:00:00.000000000Z', 'mid': {'o': '1.09357', 'h': '1.09370', 'l': '1.09288', 'c': '1.09332'}}, {'complete': True, 'volume': 2785, 'time': '2023-06-23T05:00:00.000000000Z', 'mid': {'o': '1.09331', 'h': '1.09341', 'l': '1.09273', 'c': '1.09326'}}, {'complete': True, 'volume': 3838, 'time': '2023-06-23T06:00:00.000000000Z', 'mid': {'o': '1.09325', 'h': '1.09334', 'l': '1.09203', 'c': '1.09232'}}, {'complete': True, 'volume': 10445, 'time': '2023-06-23T07:00:00.000000000Z', 'mid': {'o': '1.09229', 'h': '1.09261', 'l': '1.08536', 'c': '1.08690'}}, {'complete': True, 'volume': 6304, 'time': '2023-06-23T08:00:00.000000000Z', 'mid': {'o': '1.08694', 'h': '1.08746', 'l': '1.08486', 'c': '1.08491'}}, {'complete': True, 'volume': 4666, 'time': '2023-06-23T09:00:00.000000000Z', 'mid': {'o': '1.08491', 'h': '1.08622', 'l': '1.08444', 'c': '1.08608'}}, {'complete': True, 'volume': 3390, 'time': '2023-06-23T10:00:00.000000000Z', 'mid': {'o': '1.08610', 'h': '1.08724', 'l': '1.08608', 'c': '1.08682'}}, {'complete': True, 'volume': 3787, 'time': '2023-06-23T11:00:00.000000000Z', 'mid': {'o': '1.08682', 'h': '1.08793', 'l': '1.08662', 'c': '1.08763'}}, {'complete': True, 'volume': 6263, 'time': '2023-06-23T12:00:00.000000000Z', 'mid': {'o': '1.08764', 'h': '1.08958', 'l': '1.08762', 'c': '1.08874'}}, {'complete': True, 'volume': 8052, 'time': '2023-06-23T13:00:00.000000000Z', 'mid': {'o': '1.08874', 'h': '1.09027', 'l': '1.08832', 'c': '1.08833'}}, {'complete': True, 'volume': 7798, 'time': '2023-06-23T14:00:00.000000000Z', 'mid': {'o': '1.08834', 'h': '1.08988', 'l': '1.08790', 'c': '1.08826'}}, {'complete': True, 'volume': 5019, 'time': '2023-06-23T15:00:00.000000000Z', 'mid': {'o': '1.08824', 'h': '1.08924', 'l': '1.08790', 'c': '1.08864'}}, {'complete': True, 'volume': 3198, 'time': '2023-06-23T16:00:00.000000000Z', 'mid': {'o': '1.08862', 'h': '1.08898', 'l': '1.08828', 'c': '1.08858'}}, {'complete': True, 'volume': 2836, 'time': '2023-06-23T17:00:00.000000000Z', 'mid': {'o': '1.08858', 'h': '1.08964', 'l': '1.08858', 'c': '1.08948'}}, {'complete': True, 'volume': 2693, 'time': '2023-06-23T18:00:00.000000000Z', 'mid': {'o': '1.08947', 'h': '1.08951', 'l': '1.08886', 'c': '1.08920'}}, {'complete': True, 'volume': 2634, 'time': '2023-06-23T19:00:00.000000000Z', 'mid': {'o': '1.08918', 'h': '1.08945', 'l': '1.08872', 'c': '1.08911'}}, {'complete': True, 'volume': 1418, 'time': '2023-06-23T20:00:00.000000000Z', 'mid': {'o': '1.08909', 'h': '1.08966', 'l': '1.08904', 'c': '1.08960'}}, {'complete': True, 'volume': 524, 'time': '2023-06-25T21:00:00.000000000Z', 'mid': {'o': '1.08990', 'h': '1.09058', 'l': '1.08979', 'c': '1.09012'}}, {'complete': True, 'volume': 1822, 'time': '2023-06-25T22:00:00.000000000Z', 'mid': {'o': '1.09017', 'h': '1.09073', 'l': '1.08976', 'c': '1.09068'}}, {'complete': True, 'volume': 1268, 'time': '2023-06-25T23:00:00.000000000Z', 'mid': {'o': '1.09064', 'h': '1.09067', 'l': '1.09032', 'c': '1.09063'}}, {'complete': True, 'volume': 3313, 'time': '2023-06-26T00:00:00.000000000Z', 'mid': {'o': '1.09064', 'h': '1.09095', 'l': '1.08990', 'c': '1.09052'}}, {'complete': True, 'volume': 3655, 'time': '2023-06-26T01:00:00.000000000Z', 'mid': {'o': '1.09057', 'h': '1.09098', 'l': '1.09018', 'c': '1.09040'}}, {'complete': True, 'volume': 2774, 'time': '2023-06-26T02:00:00.000000000Z', 'mid': {'o': '1.09038', 'h': '1.09092', 'l': '1.09033', 'c': '1.09049'}}, {'complete': True, 'volume': 1898, 'time': '2023-06-26T03:00:00.000000000Z', 'mid': {'o': '1.09048', 'h': '1.09095', 'l': '1.09039', 'c': '1.09062'}}, {'complete': True, 'volume': 1609, 'time': '2023-06-26T04:00:00.000000000Z', 'mid': {'o': '1.09060', 'h': '1.09083', 'l': '1.08998', 'c': '1.09026'}}, {'complete': True, 'volume': 2069, 'time': '2023-06-26T05:00:00.000000000Z', 'mid': {'o': '1.09025', 'h': '1.09100', 'l': '1.09024', 'c': '1.09070'}}, {'complete': True, 'volume': 3759, 'time': '2023-06-26T06:00:00.000000000Z', 'mid': {'o': '1.09069', 'h': '1.09111', 'l': '1.08977', 'c': '1.09033'}}, {'complete': True, 'volume': 5821, 'time': '2023-06-26T07:00:00.000000000Z', 'mid': {'o': '1.09034', 'h': '1.09086', 'l': '1.08956', 'c': '1.09023'}}, {'complete': True, 'volume': 5400, 'time': '2023-06-26T08:00:00.000000000Z', 'mid': {'o': '1.09018', 'h': '1.09035', 'l': '1.08874', 'c': '1.08919'}}, {'complete': True, 'volume': 3481, 'time': '2023-06-26T09:00:00.000000000Z', 'mid': {'o': '1.08918', 'h': '1.09012', 'l': '1.08908', 'c': '1.08967'}}, {'complete': True, 'volume': 3383, 'time': '2023-06-26T10:00:00.000000000Z', 'mid': {'o': '1.08966', 'h': '1.09074', 'l': '1.08941', 'c': '1.09044'}}, {'complete': True, 'volume': 3112, 'time': '2023-06-26T11:00:00.000000000Z', 'mid': {'o': '1.09044', 'h': '1.09181', 'l': '1.09032', 'c': '1.09178'}}, {'complete': True, 'volume': 3388, 'time': '2023-06-26T12:00:00.000000000Z', 'mid': {'o': '1.09178', 'h': '1.09202', 'l': '1.09142', 'c': '1.09174'}}, {'complete': True, 'volume': 4741, 'time': '2023-06-26T13:00:00.000000000Z', 'mid': {'o': '1.09174', 'h': '1.09202', 'l': '1.09080', 'c': '1.09128'}}, {'complete': True, 'volume': 6124, 'time': '2023-06-26T14:00:00.000000000Z', 'mid': {'o': '1.09128', 'h': '1.09162', 'l': '1.09028', 'c': '1.09082'}}, {'complete': True, 'volume': 4201, 'time': '2023-06-26T15:00:00.000000000Z', 'mid': {'o': '1.09084', 'h': '1.09178', 'l': '1.09054', 'c': '1.09094'}}, {'complete': True, 'volume': 2901, 'time': '2023-06-26T16:00:00.000000000Z', 'mid': {'o': '1.09094', 'h': '1.09100', 'l': '1.09000', 'c': '1.09088'}}, {'complete': True, 'volume': 2160, 'time': '2023-06-26T17:00:00.000000000Z', 'mid': {'o': '1.09088', 'h': '1.09132', 'l': '1.09064', 'c': '1.09100'}}, {'complete': True, 'volume': 2107, 'time': '2023-06-26T18:00:00.000000000Z', 'mid': {'o': '1.09102', 'h': '1.09154', 'l': '1.09086', 'c': '1.09149'}}, {'complete': True, 'volume': 2394, 'time': '2023-06-26T19:00:00.000000000Z', 'mid': {'o': '1.09149', 'h': '1.09152', 'l': '1.09042', 'c': '1.09062'}}, {'complete': True, 'volume': 963, 'time': '2023-06-26T20:00:00.000000000Z', 'mid': {'o': '1.09062', 'h': '1.09086', 'l': '1.09040', 'c': '1.09050'}}, {'complete': True, 'volume': 374, 'time': '2023-06-26T21:00:00.000000000Z', 'mid': {'o': '1.09074', 'h': '1.09098', 'l': '1.09062', 'c': '1.09073'}}, {'complete': True, 'volume': 765, 'time': '2023-06-26T22:00:00.000000000Z', 'mid': {'o': '1.09072', 'h': '1.09122', 'l': '1.09069', 'c': '1.09110'}}, {'complete': True, 'volume': 937, 'time': '2023-06-26T23:00:00.000000000Z', 'mid': {'o': '1.09110', 'h': '1.09112', 'l': '1.09076', 'c': '1.09098'}}, {'complete': True, 'volume': 2148, 'time': '2023-06-27T00:00:00.000000000Z', 'mid': {'o': '1.09099', 'h': '1.09114', 'l': '1.09020', 'c': '1.09046'}}, {'complete': True, 'volume': 4151, 'time': '2023-06-27T01:00:00.000000000Z', 'mid': {'o': '1.09046', 'h': '1.09352', 'l': '1.09038', 'c': '1.09240'}}, {'complete': True, 'volume': 2759, 'time': '2023-06-27T02:00:00.000000000Z', 'mid': {'o': '1.09240', 'h': '1.09244', 'l': '1.09177', 'c': '1.09230'}}, {'complete': True, 'volume': 2589, 'time': '2023-06-27T03:00:00.000000000Z', 'mid': {'o': '1.09228', 'h': '1.09292', 'l': '1.09216', 'c': '1.09268'}}, {'complete': True, 'volume': 1977, 'time': '2023-06-27T04:00:00.000000000Z', 'mid': {'o': '1.09267', 'h': '1.09288', 'l': '1.09231', 'c': '1.09232'}}, {'complete': True, 'volume': 2513, 'time': '2023-06-27T05:00:00.000000000Z', 'mid': {'o': '1.09234', 'h': '1.09273', 'l': '1.09174', 'c': '1.09178'}}, {'complete': True, 'volume': 4169, 'time': '2023-06-27T06:00:00.000000000Z', 'mid': {'o': '1.09176', 'h': '1.09336', 'l': '1.09162', 'c': '1.09311'}}, {'complete': True, 'volume': 4505, 'time': '2023-06-27T07:00:00.000000000Z', 'mid': {'o': '1.09312', 'h': '1.09416', 'l': '1.09294', 'c': '1.09395'}}, {'complete': True, 'volume': 4876, 'time': '2023-06-27T08:00:00.000000000Z', 'mid': {'o': '1.09394', 'h': '1.09439', 'l': '1.09347', 'c': '1.09396'}}, {'complete': True, 'volume': 3977, 'time': '2023-06-27T09:00:00.000000000Z', 'mid': {'o': '1.09394', 'h': '1.09448', 'l': '1.09262', 'c': '1.09410'}}, {'complete': True, 'volume': 3343, 'time': '2023-06-27T10:00:00.000000000Z', 'mid': {'o': '1.09410', 'h': '1.09528', 'l': '1.09385', 'c': '1.09516'}}, {'complete': True, 'volume': 3243, 'time': '2023-06-27T11:00:00.000000000Z', 'mid': {'o': '1.09518', 'h': '1.09524', 'l': '1.09428', 'c': '1.09446'}}, {'complete': True, 'volume': 6424, 'time': '2023-06-27T12:00:00.000000000Z', 'mid': {'o': '1.09444', 'h': '1.09722', 'l': '1.09444', 'c': '1.09653'}}, {'complete': True, 'volume': 7054, 'time': '2023-06-27T13:00:00.000000000Z', 'mid': {'o': '1.09655', 'h': '1.09766', 'l': '1.09616', 'c': '1.09660'}}, {'complete': True, 'volume': 9266, 'time': '2023-06-27T14:00:00.000000000Z', 'mid': {'o': '1.09661', 'h': '1.09688', 'l': '1.09424', 'c': '1.09490'}}, {'complete': True, 'volume': 5380, 'time': '2023-06-27T15:00:00.000000000Z', 'mid': {'o': '1.09492', 'h': '1.09630', 'l': '1.09458', 'c': '1.09600'}}, {'complete': True, 'volume': 3294, 'time': '2023-06-27T16:00:00.000000000Z', 'mid': {'o': '1.09600', 'h': '1.09656', 'l': '1.09572', 'c': '1.09589'}}, {'complete': True, 'volume': 2940, 'time': '2023-06-27T17:00:00.000000000Z', 'mid': {'o': '1.09588', 'h': '1.09640', 'l': '1.09550', 'c': '1.09620'}}, {'complete': False, 'volume': 2189, 'time': '2023-06-27T18:00:00.000000000Z', 'mid': {'o': '1.09620', 'h': '1.09626', 'l': '1.09582', 'c': '1.09594'}}]}\n"
     ]
    }
   ],
   "source": [
    "import sys\n",
    "import os\n",
    "import dotenv\n",
    "from pathlib import Path\n",
    "path = Path(os.path.abspath(os.curdir))\n",
    "env =  str(path.parent.absolute()) + \"/src/.env\"\n",
    "config = dotenv.dotenv_values(env)\n",
    "sys.path.insert(0, os.path.abspath('..'))\n",
    "from src.config import ForexPairEnum, PeriodEnum, OrderTypeEnum\n",
    "from src.adapters.fxcm_connect.oanda_connect import OandaConnect\n",
    "\n",
    "fxcm = OandaConnect(config)\n",
    "\n",
    "data = await fxcm.get_candle_data(ForexPairEnum.USDCAD, PeriodEnum.HOUR_1)\n",
    "print(data)\n"
   ]
  },
  {
   "cell_type": "code",
   "execution_count": 2,
   "metadata": {},
   "outputs": [],
   "source": [
    "from src.config import ForexPairEnum, PeriodEnum, OrderTypeEnum"
   ]
  },
  {
   "cell_type": "code",
   "execution_count": 3,
   "metadata": {},
   "outputs": [
    {
     "name": "stderr",
     "output_type": "stream",
     "text": [
      "|ERROR|2022-12-23 00:58:50,059|Socket returns unknown error.\n"
     ]
    },
    {
     "ename": "ServerError",
     "evalue": "Can not connect to FXCM Server.",
     "output_type": "error",
     "traceback": [
      "\u001b[0;31m---------------------------------------------------------------------------\u001b[0m",
      "\u001b[0;31mServerError\u001b[0m                               Traceback (most recent call last)",
      "Cell \u001b[0;32mIn[3], line 1\u001b[0m\n\u001b[0;32m----> 1\u001b[0m fxcm\u001b[39m.\u001b[39;49mopen_connection()\n",
      "File \u001b[0;32m~/Documents/repos/fxcm/src/fxcm_connect/fxcm_connect.py:35\u001b[0m, in \u001b[0;36mFXCMConnect.open_connection\u001b[0;34m(self)\u001b[0m\n\u001b[1;32m     32\u001b[0m \u001b[39mdef\u001b[39;00m \u001b[39mopen_connection\u001b[39m(\u001b[39mself\u001b[39m) \u001b[39m-\u001b[39m\u001b[39m>\u001b[39m \u001b[39mNone\u001b[39;00m:\n\u001b[1;32m     33\u001b[0m     \u001b[39m\"\"\"Open the connection\"\"\"\u001b[39;00m\n\u001b[0;32m---> 35\u001b[0m     \u001b[39mself\u001b[39m\u001b[39m.\u001b[39mcon \u001b[39m=\u001b[39m fxcmpy(\n\u001b[1;32m     36\u001b[0m         access_token\u001b[39m=\u001b[39;49m\u001b[39mself\u001b[39;49m\u001b[39m.\u001b[39;49mtoken,\n\u001b[1;32m     37\u001b[0m         log_level\u001b[39m=\u001b[39;49m\u001b[39m\"\u001b[39;49m\u001b[39merror\u001b[39;49m\u001b[39m\"\u001b[39;49m,\n\u001b[1;32m     38\u001b[0m     )\n",
      "File \u001b[0;32m/Library/Frameworks/Python.framework/Versions/3.11/lib/python3.11/site-packages/fxcmpy/fxcmpy.py:220\u001b[0m, in \u001b[0;36mfxcmpy.__init__\u001b[0;34m(self, access_token, config_file, log_file, log_level, server, proxy_url, proxy_port, proxy_type)\u001b[0m\n\u001b[1;32m    218\u001b[0m \u001b[39melif\u001b[39;00m \u001b[39mself\u001b[39m\u001b[39m.\u001b[39mconnection_status \u001b[39m==\u001b[39m \u001b[39m'\u001b[39m\u001b[39maborted\u001b[39m\u001b[39m'\u001b[39m:\n\u001b[1;32m    219\u001b[0m     \u001b[39mself\u001b[39m\u001b[39m.\u001b[39mclose()\n\u001b[0;32m--> 220\u001b[0m     \u001b[39mraise\u001b[39;00m ServerError(\u001b[39m'\u001b[39m\u001b[39mCan not connect to FXCM Server.\u001b[39m\u001b[39m'\u001b[39m)\n\u001b[1;32m    222\u001b[0m \u001b[39mself\u001b[39m\u001b[39m.\u001b[39m__collect_account_ids__()\n\u001b[1;32m    223\u001b[0m \u001b[39mself\u001b[39m\u001b[39m.\u001b[39mdefault_account \u001b[39m=\u001b[39m \u001b[39mself\u001b[39m\u001b[39m.\u001b[39maccount_ids[\u001b[39m0\u001b[39m]\n",
      "\u001b[0;31mServerError\u001b[0m: Can not connect to FXCM Server."
     ]
    }
   ],
   "source": [
    "fxcm.open_connection()"
   ]
  },
  {
   "cell_type": "code",
   "execution_count": 9,
   "metadata": {},
   "outputs": [],
   "source": [
    "h = fxcm.open_trade(instrument=ForexPairEnum.USDJPY, is_buy=False, is_pips=True, stop=-8, limit=8, amount=1, order_type=OrderTypeEnum.AT_MARKET)\n",
    "\n"
   ]
  },
  {
   "cell_type": "code",
   "execution_count": 11,
   "metadata": {},
   "outputs": [],
   "source": [
    "a =fxcm.get_open_positions()\n"
   ]
  },
  {
   "cell_type": "code",
   "execution_count": 32,
   "metadata": {},
   "outputs": [
    {
     "data": {
      "text/plain": [
       "numpy.int64"
      ]
     },
     "execution_count": 32,
     "metadata": {},
     "output_type": "execute_result"
    }
   ],
   "source": [
    "type(a.iloc[-1][\"amountK\"])"
   ]
  },
  {
   "cell_type": "code",
   "execution_count": 33,
   "metadata": {},
   "outputs": [
    {
     "data": {
      "text/plain": [
       "t                                      1\n",
       "ratePrecision                          3\n",
       "tradeId                        123601176\n",
       "accountName                     00913952\n",
       "accountId                         913952\n",
       "roll                                   0\n",
       "com                                    0\n",
       "open                             132.309\n",
       "valueDate                               \n",
       "grossPL                         -0.38287\n",
       "close                             132.37\n",
       "visiblePL                           -6.1\n",
       "isDisabled                         False\n",
       "currency                         USD/JPY\n",
       "isBuy                              False\n",
       "amountK                                1\n",
       "currencyPoint                    0.06278\n",
       "time                      12222022220129\n",
       "usedMargin                         16.65\n",
       "orderId                        220946275\n",
       "OpenOrderRequestTXT                 None\n",
       "OpenOrderReqID         Request-535643011\n",
       "TradeIDOrigin                       None\n",
       "child_trailingStop                  none\n",
       "child_trailing                        -1\n",
       "stop                              132.45\n",
       "stopMove                               0\n",
       "limit                            132.229\n",
       "Name: 1, dtype: object"
      ]
     },
     "execution_count": 33,
     "metadata": {},
     "output_type": "execute_result"
    }
   ],
   "source": [
    "a.iloc[-1]"
   ]
  },
  {
   "cell_type": "code",
   "execution_count": 15,
   "metadata": {},
   "outputs": [],
   "source": [
    "a.to_csv(\"open_positions.csv\")"
   ]
  },
  {
   "cell_type": "code",
   "execution_count": null,
   "metadata": {},
   "outputs": [],
   "source": [
    "from src.indicators.indicators import Indicators\n",
    "\n",
    "ind = Indicators()\n",
    "bollinger = ind.get_bollinger(data)"
   ]
  },
  {
   "cell_type": "code",
   "execution_count": null,
   "metadata": {},
   "outputs": [],
   "source": []
  }
 ],
 "metadata": {
  "kernelspec": {
   "display_name": "Python 3",
   "language": "python",
   "name": "python3"
  },
  "language_info": {
   "codemirror_mode": {
    "name": "ipython",
    "version": 3
   },
   "file_extension": ".py",
   "mimetype": "text/x-python",
   "name": "python",
   "nbconvert_exporter": "python",
   "pygments_lexer": "ipython3",
   "version": "3.11.1"
  },
  "orig_nbformat": 4,
  "vscode": {
   "interpreter": {
    "hash": "aee8b7b246df8f9039afb4144a1f6fd8d2ca17a180786b69acc140d282b71a49"
   }
  }
 },
 "nbformat": 4,
 "nbformat_minor": 2
}
