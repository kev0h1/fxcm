{
 "cells": [
  {
   "cell_type": "code",
   "execution_count": 23,
   "metadata": {},
   "outputs": [
    {
     "name": "stdout",
     "output_type": "stream",
     "text": [
      "{'instrument': 'EUR_USD', 'granularity': 'H1', 'candles': [{'complete': True, 'volume': 3454, 'time': '2023-07-18T19:00:00.000000000Z', 'mid': {'o': '1.12291', 'h': '1.12308', 'l': '1.12244', 'c': '1.12303'}}, {'complete': True, 'volume': 1689, 'time': '2023-07-18T20:00:00.000000000Z', 'mid': {'o': '1.12304', 'h': '1.12318', 'l': '1.12271', 'c': '1.12284'}}, {'complete': True, 'volume': 586, 'time': '2023-07-18T21:00:00.000000000Z', 'mid': {'o': '1.12266', 'h': '1.12304', 'l': '1.12260', 'c': '1.12294'}}, {'complete': True, 'volume': 1247, 'time': '2023-07-18T22:00:00.000000000Z', 'mid': {'o': '1.12290', 'h': '1.12328', 'l': '1.12285', 'c': '1.12317'}}, {'complete': True, 'volume': 1797, 'time': '2023-07-18T23:00:00.000000000Z', 'mid': {'o': '1.12316', 'h': '1.12322', 'l': '1.12252', 'c': '1.12284'}}, {'complete': True, 'volume': 3585, 'time': '2023-07-19T00:00:00.000000000Z', 'mid': {'o': '1.12284', 'h': '1.12329', 'l': '1.12272', 'c': '1.12296'}}, {'complete': True, 'volume': 4428, 'time': '2023-07-19T01:00:00.000000000Z', 'mid': {'o': '1.12298', 'h': '1.12313', 'l': '1.12217', 'c': '1.12252'}}, {'complete': True, 'volume': 3342, 'time': '2023-07-19T02:00:00.000000000Z', 'mid': {'o': '1.12252', 'h': '1.12256', 'l': '1.12162', 'c': '1.12216'}}, {'complete': True, 'volume': 2811, 'time': '2023-07-19T03:00:00.000000000Z', 'mid': {'o': '1.12218', 'h': '1.12269', 'l': '1.12202', 'c': '1.12263'}}, {'complete': True, 'volume': 2485, 'time': '2023-07-19T04:00:00.000000000Z', 'mid': {'o': '1.12266', 'h': '1.12268', 'l': '1.12196', 'c': '1.12216'}}, {'complete': True, 'volume': 3050, 'time': '2023-07-19T05:00:00.000000000Z', 'mid': {'o': '1.12216', 'h': '1.12358', 'l': '1.12202', 'c': '1.12352'}}, {'complete': True, 'volume': 8751, 'time': '2023-07-19T06:00:00.000000000Z', 'mid': {'o': '1.12354', 'h': '1.12358', 'l': '1.11959', 'c': '1.12129'}}, {'complete': True, 'volume': 7051, 'time': '2023-07-19T07:00:00.000000000Z', 'mid': {'o': '1.12130', 'h': '1.12372', 'l': '1.12126', 'c': '1.12270'}}, {'complete': True, 'volume': 5474, 'time': '2023-07-19T08:00:00.000000000Z', 'mid': {'o': '1.12268', 'h': '1.12328', 'l': '1.12200', 'c': '1.12326'}}, {'complete': True, 'volume': 4710, 'time': '2023-07-19T09:00:00.000000000Z', 'mid': {'o': '1.12324', 'h': '1.12402', 'l': '1.12256', 'c': '1.12296'}}, {'complete': True, 'volume': 4031, 'time': '2023-07-19T10:00:00.000000000Z', 'mid': {'o': '1.12297', 'h': '1.12297', 'l': '1.12157', 'c': '1.12158'}}, {'complete': True, 'volume': 4330, 'time': '2023-07-19T11:00:00.000000000Z', 'mid': {'o': '1.12160', 'h': '1.12204', 'l': '1.12101', 'c': '1.12133'}}, {'complete': True, 'volume': 6151, 'time': '2023-07-19T12:00:00.000000000Z', 'mid': {'o': '1.12134', 'h': '1.12241', 'l': '1.12088', 'c': '1.12172'}}, {'complete': True, 'volume': 7220, 'time': '2023-07-19T13:00:00.000000000Z', 'mid': {'o': '1.12173', 'h': '1.12247', 'l': '1.12132', 'c': '1.12136'}}, {'complete': True, 'volume': 8520, 'time': '2023-07-19T14:00:00.000000000Z', 'mid': {'o': '1.12134', 'h': '1.12144', 'l': '1.11744', 'c': '1.11908'}}, {'complete': True, 'volume': 5533, 'time': '2023-07-19T15:00:00.000000000Z', 'mid': {'o': '1.11907', 'h': '1.11995', 'l': '1.11896', 'c': '1.11940'}}, {'complete': True, 'volume': 4107, 'time': '2023-07-19T16:00:00.000000000Z', 'mid': {'o': '1.11942', 'h': '1.11952', 'l': '1.11803', 'c': '1.11922'}}, {'complete': True, 'volume': 3689, 'time': '2023-07-19T17:00:00.000000000Z', 'mid': {'o': '1.11922', 'h': '1.11997', 'l': '1.11902', 'c': '1.11992'}}, {'complete': True, 'volume': 2999, 'time': '2023-07-19T18:00:00.000000000Z', 'mid': {'o': '1.11991', 'h': '1.12023', 'l': '1.11951', 'c': '1.12020'}}, {'complete': True, 'volume': 3437, 'time': '2023-07-19T19:00:00.000000000Z', 'mid': {'o': '1.12019', 'h': '1.12051', 'l': '1.11985', 'c': '1.12038'}}, {'complete': True, 'volume': 1469, 'time': '2023-07-19T20:00:00.000000000Z', 'mid': {'o': '1.12040', 'h': '1.12048', 'l': '1.12005', 'c': '1.12027'}}, {'complete': True, 'volume': 1098, 'time': '2023-07-19T21:00:00.000000000Z', 'mid': {'o': '1.12004', 'h': '1.12038', 'l': '1.11979', 'c': '1.12006'}}, {'complete': True, 'volume': 1239, 'time': '2023-07-19T22:00:00.000000000Z', 'mid': {'o': '1.12008', 'h': '1.12041', 'l': '1.11993', 'c': '1.12038'}}, {'complete': True, 'volume': 1482, 'time': '2023-07-19T23:00:00.000000000Z', 'mid': {'o': '1.12037', 'h': '1.12054', 'l': '1.12024', 'c': '1.12050'}}, {'complete': True, 'volume': 3026, 'time': '2023-07-20T00:00:00.000000000Z', 'mid': {'o': '1.12051', 'h': '1.12202', 'l': '1.12039', 'c': '1.12183'}}, {'complete': True, 'volume': 6035, 'time': '2023-07-20T01:00:00.000000000Z', 'mid': {'o': '1.12182', 'h': '1.12286', 'l': '1.12156', 'c': '1.12258'}}, {'complete': True, 'volume': 3773, 'time': '2023-07-20T02:00:00.000000000Z', 'mid': {'o': '1.12260', 'h': '1.12292', 'l': '1.12211', 'c': '1.12251'}}, {'complete': True, 'volume': 3181, 'time': '2023-07-20T03:00:00.000000000Z', 'mid': {'o': '1.12254', 'h': '1.12274', 'l': '1.12187', 'c': '1.12258'}}, {'complete': True, 'volume': 2153, 'time': '2023-07-20T04:00:00.000000000Z', 'mid': {'o': '1.12260', 'h': '1.12269', 'l': '1.12202', 'c': '1.12212'}}, {'complete': True, 'volume': 3730, 'time': '2023-07-20T05:00:00.000000000Z', 'mid': {'o': '1.12215', 'h': '1.12232', 'l': '1.12134', 'c': '1.12170'}}, {'complete': True, 'volume': 4396, 'time': '2023-07-20T06:00:00.000000000Z', 'mid': {'o': '1.12168', 'h': '1.12184', 'l': '1.12055', 'c': '1.12108'}}, {'complete': True, 'volume': 6518, 'time': '2023-07-20T07:00:00.000000000Z', 'mid': {'o': '1.12109', 'h': '1.12210', 'l': '1.11980', 'c': '1.12056'}}, {'complete': True, 'volume': 5334, 'time': '2023-07-20T08:00:00.000000000Z', 'mid': {'o': '1.12054', 'h': '1.12138', 'l': '1.12010', 'c': '1.12084'}}, {'complete': True, 'volume': 4236, 'time': '2023-07-20T09:00:00.000000000Z', 'mid': {'o': '1.12085', 'h': '1.12144', 'l': '1.12050', 'c': '1.12122'}}, {'complete': True, 'volume': 4040, 'time': '2023-07-20T10:00:00.000000000Z', 'mid': {'o': '1.12122', 'h': '1.12168', 'l': '1.12017', 'c': '1.12041'}}, {'complete': True, 'volume': 4203, 'time': '2023-07-20T11:00:00.000000000Z', 'mid': {'o': '1.12039', 'h': '1.12128', 'l': '1.11987', 'c': '1.12070'}}, {'complete': True, 'volume': 8644, 'time': '2023-07-20T12:00:00.000000000Z', 'mid': {'o': '1.12071', 'h': '1.12071', 'l': '1.11770', 'c': '1.11828'}}, {'complete': True, 'volume': 7487, 'time': '2023-07-20T13:00:00.000000000Z', 'mid': {'o': '1.11823', 'h': '1.11880', 'l': '1.11722', 'c': '1.11834'}}, {'complete': True, 'volume': 8977, 'time': '2023-07-20T14:00:00.000000000Z', 'mid': {'o': '1.11836', 'h': '1.11888', 'l': '1.11406', 'c': '1.11470'}}, {'complete': True, 'volume': 4781, 'time': '2023-07-20T15:00:00.000000000Z', 'mid': {'o': '1.11471', 'h': '1.11525', 'l': '1.11318', 'c': '1.11349'}}, {'complete': True, 'volume': 3850, 'time': '2023-07-20T16:00:00.000000000Z', 'mid': {'o': '1.11348', 'h': '1.11388', 'l': '1.11185', 'c': '1.11242'}}, {'complete': True, 'volume': 3476, 'time': '2023-07-20T17:00:00.000000000Z', 'mid': {'o': '1.11243', 'h': '1.11349', 'l': '1.11220', 'c': '1.11304'}}, {'complete': True, 'volume': 2951, 'time': '2023-07-20T18:00:00.000000000Z', 'mid': {'o': '1.11304', 'h': '1.11308', 'l': '1.11234', 'c': '1.11264'}}, {'complete': True, 'volume': 2656, 'time': '2023-07-20T19:00:00.000000000Z', 'mid': {'o': '1.11264', 'h': '1.11336', 'l': '1.11264', 'c': '1.11321'}}, {'complete': False, 'volume': 298, 'time': '2023-07-20T20:00:00.000000000Z', 'mid': {'o': '1.11322', 'h': '1.11325', 'l': '1.11293', 'c': '1.11294'}}]}\n"
     ]
    },
    {
     "data": {
      "text/plain": [
       "Ellipsis"
      ]
     },
     "execution_count": 23,
     "metadata": {},
     "output_type": "execute_result"
    }
   ],
   "source": [
    "import sys\n",
    "import os\n",
    "import dotenv\n",
    "from pathlib import Path\n",
    "path = Path(os.path.abspath(os.curdir))\n",
    "env =  str(path.parent.absolute()) + \"/src/.env\"\n",
    "config = dotenv.dotenv_values(env)\n",
    "sys.path.insert(0, os.path.abspath('..'))\n",
    "from src.config import ForexPairEnum, PeriodEnum, OrderTypeEnum\n",
    "from src.adapters.fxcm_connect.oanda_connect import OandaConnect\n",
    "\n",
    "fxcm = OandaConnect(config)\n",
    "\n",
    "data = await fxcm.get_candle_data(ForexPairEnum.USDJPY, PeriodEnum.HOUR_1, number=50)\n",
    "print(data)\n",
    "import json\n",
    "with open('data.json', 'w') as f:\n",
    "    json.dump(data, f)\n",
    "..."
   ]
  },
  {
   "cell_type": "code",
   "execution_count": 2,
   "metadata": {},
   "outputs": [],
   "source": [
    "from src.config import ForexPairEnum, PeriodEnum, OrderTypeEnum"
   ]
  },
  {
   "cell_type": "code",
   "execution_count": 3,
   "metadata": {},
   "outputs": [
    {
     "name": "stderr",
     "output_type": "stream",
     "text": [
      "|ERROR|2022-12-23 00:58:50,059|Socket returns unknown error.\n"
     ]
    },
    {
     "ename": "ServerError",
     "evalue": "Can not connect to FXCM Server.",
     "output_type": "error",
     "traceback": [
      "\u001b[0;31m---------------------------------------------------------------------------\u001b[0m",
      "\u001b[0;31mServerError\u001b[0m                               Traceback (most recent call last)",
      "Cell \u001b[0;32mIn[3], line 1\u001b[0m\n\u001b[0;32m----> 1\u001b[0m fxcm\u001b[39m.\u001b[39;49mopen_connection()\n",
      "File \u001b[0;32m~/Documents/repos/fxcm/src/fxcm_connect/fxcm_connect.py:35\u001b[0m, in \u001b[0;36mFXCMConnect.open_connection\u001b[0;34m(self)\u001b[0m\n\u001b[1;32m     32\u001b[0m \u001b[39mdef\u001b[39;00m \u001b[39mopen_connection\u001b[39m(\u001b[39mself\u001b[39m) \u001b[39m-\u001b[39m\u001b[39m>\u001b[39m \u001b[39mNone\u001b[39;00m:\n\u001b[1;32m     33\u001b[0m     \u001b[39m\"\"\"Open the connection\"\"\"\u001b[39;00m\n\u001b[0;32m---> 35\u001b[0m     \u001b[39mself\u001b[39m\u001b[39m.\u001b[39mcon \u001b[39m=\u001b[39m fxcmpy(\n\u001b[1;32m     36\u001b[0m         access_token\u001b[39m=\u001b[39;49m\u001b[39mself\u001b[39;49m\u001b[39m.\u001b[39;49mtoken,\n\u001b[1;32m     37\u001b[0m         log_level\u001b[39m=\u001b[39;49m\u001b[39m\"\u001b[39;49m\u001b[39merror\u001b[39;49m\u001b[39m\"\u001b[39;49m,\n\u001b[1;32m     38\u001b[0m     )\n",
      "File \u001b[0;32m/Library/Frameworks/Python.framework/Versions/3.11/lib/python3.11/site-packages/fxcmpy/fxcmpy.py:220\u001b[0m, in \u001b[0;36mfxcmpy.__init__\u001b[0;34m(self, access_token, config_file, log_file, log_level, server, proxy_url, proxy_port, proxy_type)\u001b[0m\n\u001b[1;32m    218\u001b[0m \u001b[39melif\u001b[39;00m \u001b[39mself\u001b[39m\u001b[39m.\u001b[39mconnection_status \u001b[39m==\u001b[39m \u001b[39m'\u001b[39m\u001b[39maborted\u001b[39m\u001b[39m'\u001b[39m:\n\u001b[1;32m    219\u001b[0m     \u001b[39mself\u001b[39m\u001b[39m.\u001b[39mclose()\n\u001b[0;32m--> 220\u001b[0m     \u001b[39mraise\u001b[39;00m ServerError(\u001b[39m'\u001b[39m\u001b[39mCan not connect to FXCM Server.\u001b[39m\u001b[39m'\u001b[39m)\n\u001b[1;32m    222\u001b[0m \u001b[39mself\u001b[39m\u001b[39m.\u001b[39m__collect_account_ids__()\n\u001b[1;32m    223\u001b[0m \u001b[39mself\u001b[39m\u001b[39m.\u001b[39mdefault_account \u001b[39m=\u001b[39m \u001b[39mself\u001b[39m\u001b[39m.\u001b[39maccount_ids[\u001b[39m0\u001b[39m]\n",
      "\u001b[0;31mServerError\u001b[0m: Can not connect to FXCM Server."
     ]
    }
   ],
   "source": [
    "fxcm.open_connection()"
   ]
  },
  {
   "cell_type": "code",
   "execution_count": 9,
   "metadata": {},
   "outputs": [],
   "source": [
    "h = fxcm.open_trade(instrument=ForexPairEnum.USDJPY, is_buy=False, is_pips=True, stop=-8, limit=8, amount=1, order_type=OrderTypeEnum.AT_MARKET)\n",
    "\n"
   ]
  },
  {
   "cell_type": "code",
   "execution_count": 11,
   "metadata": {},
   "outputs": [],
   "source": [
    "a =fxcm.get_open_positions()\n"
   ]
  },
  {
   "cell_type": "code",
   "execution_count": 32,
   "metadata": {},
   "outputs": [
    {
     "data": {
      "text/plain": [
       "numpy.int64"
      ]
     },
     "execution_count": 32,
     "metadata": {},
     "output_type": "execute_result"
    }
   ],
   "source": [
    "type(a.iloc[-1][\"amountK\"])"
   ]
  },
  {
   "cell_type": "code",
   "execution_count": 33,
   "metadata": {},
   "outputs": [
    {
     "data": {
      "text/plain": [
       "t                                      1\n",
       "ratePrecision                          3\n",
       "tradeId                        123601176\n",
       "accountName                     00913952\n",
       "accountId                         913952\n",
       "roll                                   0\n",
       "com                                    0\n",
       "open                             132.309\n",
       "valueDate                               \n",
       "grossPL                         -0.38287\n",
       "close                             132.37\n",
       "visiblePL                           -6.1\n",
       "isDisabled                         False\n",
       "currency                         USD/JPY\n",
       "isBuy                              False\n",
       "amountK                                1\n",
       "currencyPoint                    0.06278\n",
       "time                      12222022220129\n",
       "usedMargin                         16.65\n",
       "orderId                        220946275\n",
       "OpenOrderRequestTXT                 None\n",
       "OpenOrderReqID         Request-535643011\n",
       "TradeIDOrigin                       None\n",
       "child_trailingStop                  none\n",
       "child_trailing                        -1\n",
       "stop                              132.45\n",
       "stopMove                               0\n",
       "limit                            132.229\n",
       "Name: 1, dtype: object"
      ]
     },
     "execution_count": 33,
     "metadata": {},
     "output_type": "execute_result"
    }
   ],
   "source": [
    "a.iloc[-1]"
   ]
  },
  {
   "cell_type": "code",
   "execution_count": 15,
   "metadata": {},
   "outputs": [],
   "source": [
    "a.to_csv(\"open_positions.csv\")"
   ]
  },
  {
   "cell_type": "code",
   "execution_count": null,
   "metadata": {},
   "outputs": [],
   "source": [
    "from src.indicators.indicators import Indicators\n",
    "\n",
    "ind = Indicators()\n",
    "bollinger = ind.get_bollinger(data)"
   ]
  },
  {
   "cell_type": "code",
   "execution_count": null,
   "metadata": {},
   "outputs": [],
   "source": []
  }
 ],
 "metadata": {
  "kernelspec": {
   "display_name": "Python 3",
   "language": "python",
   "name": "python3"
  },
  "language_info": {
   "codemirror_mode": {
    "name": "ipython",
    "version": 3
   },
   "file_extension": ".py",
   "mimetype": "text/x-python",
   "name": "python",
   "nbconvert_exporter": "python",
   "pygments_lexer": "ipython3",
   "version": "3.11.1"
  },
  "orig_nbformat": 4,
  "vscode": {
   "interpreter": {
    "hash": "aee8b7b246df8f9039afb4144a1f6fd8d2ca17a180786b69acc140d282b71a49"
   }
  }
 },
 "nbformat": 4,
 "nbformat_minor": 2
}
