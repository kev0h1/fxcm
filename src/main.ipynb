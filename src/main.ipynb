{
 "cells": [
  {
   "cell_type": "code",
   "execution_count": 1,
   "metadata": {},
   "outputs": [
    {
     "ename": "TypeError",
     "evalue": "can only concatenate str (not \"NoneType\") to str",
     "output_type": "error",
     "traceback": [
      "\u001b[0;31m---------------------------------------------------------------------------\u001b[0m",
      "\u001b[0;31mTypeError\u001b[0m                                 Traceback (most recent call last)",
      "Cell \u001b[0;32mIn[1], line 12\u001b[0m\n\u001b[1;32m     10\u001b[0m \u001b[39mfrom\u001b[39;00m \u001b[39msrc\u001b[39;00m\u001b[39m.\u001b[39;00m\u001b[39mfxcm_connect\u001b[39;00m\u001b[39m.\u001b[39;00m\u001b[39mfxcm_connect\u001b[39;00m \u001b[39mimport\u001b[39;00m FXCMConnect\n\u001b[1;32m     11\u001b[0m \u001b[39mfrom\u001b[39;00m \u001b[39msrc\u001b[39;00m\u001b[39m.\u001b[39;00m\u001b[39mdata\u001b[39;00m\u001b[39m.\u001b[39;00m\u001b[39mdata\u001b[39;00m \u001b[39mimport\u001b[39;00m Data\n\u001b[0;32m---> 12\u001b[0m fxcm \u001b[39m=\u001b[39m FXCMConnect(config)\n\u001b[1;32m     14\u001b[0m data \u001b[39m=\u001b[39m fxcm\u001b[39m.\u001b[39mget_candle_data(ForexPairEnum\u001b[39m.\u001b[39mUSDCAD, PeriodEnum\u001b[39m.\u001b[39mHOUR_1)\n\u001b[1;32m     15\u001b[0m data_obj \u001b[39m=\u001b[39m Data(data)\n",
      "File \u001b[0;32m~/Documents/repos/fxcm/src/fxcm_connect/fxcm_connect.py:22\u001b[0m, in \u001b[0;36mFXCMConnect.__init__\u001b[0;34m(self, conf)\u001b[0m\n\u001b[1;32m     20\u001b[0m \u001b[39mif\u001b[39;00m \u001b[39mself\u001b[39m\u001b[39m.\u001b[39mtoken \u001b[39mis\u001b[39;00m \u001b[39mNone\u001b[39;00m:\n\u001b[1;32m     21\u001b[0m     \u001b[39mraise\u001b[39;00m \u001b[39mValueError\u001b[39;00m(\u001b[39m\"\u001b[39m\u001b[39mNo config defined\u001b[39m\u001b[39m\"\u001b[39m)\n\u001b[0;32m---> 22\u001b[0m \u001b[39mself\u001b[39;49m\u001b[39m.\u001b[39;49mopen_connection()\n",
      "File \u001b[0;32m~/Documents/repos/fxcm/src/fxcm_connect/fxcm_connect.py:34\u001b[0m, in \u001b[0;36mFXCMConnect.open_connection\u001b[0;34m(self)\u001b[0m\n\u001b[1;32m     32\u001b[0m \u001b[39mdef\u001b[39;00m \u001b[39mopen_connection\u001b[39m(\u001b[39mself\u001b[39m) \u001b[39m-\u001b[39m\u001b[39m>\u001b[39m \u001b[39mNone\u001b[39;00m:\n\u001b[1;32m     33\u001b[0m     \u001b[39m\"\"\"Open the connection\"\"\"\u001b[39;00m\n\u001b[0;32m---> 34\u001b[0m     \u001b[39mself\u001b[39m\u001b[39m.\u001b[39mcon \u001b[39m=\u001b[39m fxcmpy(access_token\u001b[39m=\u001b[39;49m\u001b[39mself\u001b[39;49m\u001b[39m.\u001b[39;49mtoken, log_level\u001b[39m=\u001b[39;49m\u001b[39m\"\u001b[39;49m\u001b[39merror\u001b[39;49m\u001b[39m\"\u001b[39;49m)\n",
      "File \u001b[0;32m/Library/Frameworks/Python.framework/Versions/3.11/lib/python3.11/site-packages/fxcmpy/fxcmpy.py:228\u001b[0m, in \u001b[0;36mfxcmpy.__init__\u001b[0;34m(self, access_token, config_file, log_file, log_level, server, proxy_url, proxy_port, proxy_type)\u001b[0m\n\u001b[1;32m    226\u001b[0m \u001b[39mself\u001b[39m\u001b[39m.\u001b[39m__collect_orders__()\n\u001b[1;32m    227\u001b[0m \u001b[39mself\u001b[39m\u001b[39m.\u001b[39m__collect_oco_orders__()\n\u001b[0;32m--> 228\u001b[0m \u001b[39mself\u001b[39;49m\u001b[39m.\u001b[39;49m__collect_offers__()\n\u001b[1;32m    229\u001b[0m \u001b[39mself\u001b[39m\u001b[39m.\u001b[39m__collect_positions__()\n\u001b[1;32m    230\u001b[0m \u001b[39mself\u001b[39m\u001b[39m.\u001b[39minstruments \u001b[39m=\u001b[39m \u001b[39mself\u001b[39m\u001b[39m.\u001b[39mget_instruments()\n",
      "File \u001b[0;32m/Library/Frameworks/Python.framework/Versions/3.11/lib/python3.11/site-packages/fxcmpy/fxcmpy.py:2304\u001b[0m, in \u001b[0;36mfxcmpy.__collect_offers__\u001b[0;34m(self)\u001b[0m\n\u001b[1;32m   2301\u001b[0m                 to_unsubscribe\u001b[39m.\u001b[39mappend(ins[\u001b[39m'\u001b[39m\u001b[39msymbol\u001b[39m\u001b[39m'\u001b[39m])\n\u001b[1;32m   2302\u001b[0m                 \u001b[39m# self.subscribe_instrument(ins['symbol'])\u001b[39;00m\n\u001b[0;32m-> 2304\u001b[0m offers \u001b[39m=\u001b[39m \u001b[39mself\u001b[39;49m\u001b[39m.\u001b[39;49mget_offers(\u001b[39m'\u001b[39;49m\u001b[39mlist\u001b[39;49m\u001b[39m'\u001b[39;49m)\n\u001b[1;32m   2305\u001b[0m \u001b[39mfor\u001b[39;00m offer \u001b[39min\u001b[39;00m offers:\n\u001b[1;32m   2306\u001b[0m     \u001b[39mif\u001b[39;00m \u001b[39m'\u001b[39m\u001b[39mcurrency\u001b[39m\u001b[39m'\u001b[39m \u001b[39min\u001b[39;00m offer \u001b[39mand\u001b[39;00m \u001b[39m'\u001b[39m\u001b[39mofferId\u001b[39m\u001b[39m'\u001b[39m \u001b[39min\u001b[39;00m offer:\n",
      "File \u001b[0;32m/Library/Frameworks/Python.framework/Versions/3.11/lib/python3.11/site-packages/fxcmpy/fxcmpy.py:414\u001b[0m, in \u001b[0;36mfxcmpy.get_offers\u001b[0;34m(self, kind)\u001b[0m\n\u001b[1;32m    401\u001b[0m \u001b[39mdef\u001b[39;00m \u001b[39mget_offers\u001b[39m(\u001b[39mself\u001b[39m, kind\u001b[39m=\u001b[39m\u001b[39m'\u001b[39m\u001b[39mdataframe\u001b[39m\u001b[39m'\u001b[39m):\n\u001b[1;32m    402\u001b[0m     \u001b[39m\"\"\" Return a snapshot of the 'Offer' model.\u001b[39;00m\n\u001b[1;32m    403\u001b[0m \n\u001b[1;32m    404\u001b[0m \u001b[39m    Arguments:\u001b[39;00m\n\u001b[0;32m   (...)\u001b[0m\n\u001b[1;32m    412\u001b[0m \n\u001b[1;32m    413\u001b[0m \u001b[39m    \"\"\"\u001b[39;00m\n\u001b[0;32m--> 414\u001b[0m     data \u001b[39m=\u001b[39m \u001b[39mself\u001b[39;49m\u001b[39m.\u001b[39;49mget_model((\u001b[39m'\u001b[39;49m\u001b[39mOffer\u001b[39;49m\u001b[39m'\u001b[39;49m,))\n\u001b[1;32m    415\u001b[0m     offers \u001b[39m=\u001b[39m data[\u001b[39m'\u001b[39m\u001b[39moffers\u001b[39m\u001b[39m'\u001b[39m]\n\u001b[1;32m    416\u001b[0m     \u001b[39mif\u001b[39;00m kind \u001b[39m==\u001b[39m \u001b[39m'\u001b[39m\u001b[39mlist\u001b[39m\u001b[39m'\u001b[39m:\n",
      "File \u001b[0;32m/Library/Frameworks/Python.framework/Versions/3.11/lib/python3.11/site-packages/fxcmpy/fxcmpy.py:346\u001b[0m, in \u001b[0;36mfxcmpy.get_model\u001b[0;34m(self, models, summary)\u001b[0m\n\u001b[1;32m    343\u001b[0m     \u001b[39mif\u001b[39;00m model \u001b[39mnot\u001b[39;00m \u001b[39min\u001b[39;00m \u001b[39mself\u001b[39m\u001b[39m.\u001b[39mmodels:\n\u001b[1;32m    344\u001b[0m         \u001b[39mraise\u001b[39;00m \u001b[39mValueError\u001b[39;00m(\u001b[39m'\u001b[39m\u001b[39mModels have to be of \u001b[39m\u001b[39m%s\u001b[39;00m\u001b[39m'\u001b[39m \u001b[39m%\u001b[39m \u001b[39mself\u001b[39m\u001b[39m.\u001b[39mmodels)\n\u001b[0;32m--> 346\u001b[0m data \u001b[39m=\u001b[39m \u001b[39mself\u001b[39;49m\u001b[39m.\u001b[39;49m__handle_request__(method\u001b[39m=\u001b[39;49m\u001b[39m'\u001b[39;49m\u001b[39mtrading/get_model\u001b[39;49m\u001b[39m'\u001b[39;49m,\n\u001b[1;32m    347\u001b[0m                                params\u001b[39m=\u001b[39;49m{\u001b[39m'\u001b[39;49m\u001b[39mmodels\u001b[39;49m\u001b[39m'\u001b[39;49m: \u001b[39mlist\u001b[39;49m(models)})\n\u001b[1;32m    349\u001b[0m total \u001b[39m=\u001b[39m \u001b[39mdict\u001b[39m()\n\u001b[1;32m    350\u001b[0m \u001b[39mfor\u001b[39;00m table \u001b[39min\u001b[39;00m data:\n",
      "File \u001b[0;32m/Library/Frameworks/Python.framework/Versions/3.11/lib/python3.11/site-packages/fxcmpy/fxcmpy.py:2459\u001b[0m, in \u001b[0;36mfxcmpy.__handle_request__\u001b[0;34m(self, method, params, protocol)\u001b[0m\n\u001b[1;32m   2456\u001b[0m     \u001b[39mraise\u001b[39;00m \u001b[39mIOError\u001b[39;00m(\u001b[39m'\u001b[39m\u001b[39mConnection aborted, failed to reconnect\u001b[39m\u001b[39m'\u001b[39m)\n\u001b[1;32m   2458\u001b[0m \u001b[39mself\u001b[39m\u001b[39m.\u001b[39msocket_id \u001b[39m=\u001b[39m \u001b[39mself\u001b[39m\u001b[39m.\u001b[39msocket\u001b[39m.\u001b[39mget_sid()\n\u001b[0;32m-> 2459\u001b[0m \u001b[39mself\u001b[39m\u001b[39m.\u001b[39mbearer_token \u001b[39m=\u001b[39m \u001b[39m'\u001b[39;49m\u001b[39mBearer \u001b[39;49m\u001b[39m'\u001b[39;49m\u001b[39m+\u001b[39;49m\u001b[39mself\u001b[39;49m\u001b[39m.\u001b[39;49msocket_id\u001b[39m+\u001b[39m\u001b[39mself\u001b[39m\u001b[39m.\u001b[39maccess_token\n\u001b[1;32m   2460\u001b[0m \u001b[39mself\u001b[39m\u001b[39m.\u001b[39mlogger\u001b[39m.\u001b[39minfo(\u001b[39m'\u001b[39m\u001b[39mCreated bearer token: \u001b[39m\u001b[39m%s\u001b[39;00m\u001b[39m'\u001b[39m \u001b[39m%\u001b[39m \u001b[39mself\u001b[39m\u001b[39m.\u001b[39mbearer_token) \n\u001b[1;32m   2461\u001b[0m \u001b[39mself\u001b[39m\u001b[39m.\u001b[39mrequest_headers \u001b[39m=\u001b[39m {\n\u001b[1;32m   2462\u001b[0m                         \u001b[39m'\u001b[39m\u001b[39mUser-Agent\u001b[39m\u001b[39m'\u001b[39m: \u001b[39m'\u001b[39m\u001b[39mrequest\u001b[39m\u001b[39m'\u001b[39m,\n\u001b[1;32m   2463\u001b[0m                         \u001b[39m'\u001b[39m\u001b[39mAuthorization\u001b[39m\u001b[39m'\u001b[39m: \u001b[39mself\u001b[39m\u001b[39m.\u001b[39mbearer_token,\n\u001b[0;32m   (...)\u001b[0m\n\u001b[1;32m   2466\u001b[0m                         \u001b[39m'\u001b[39m\u001b[39mapplication/x-www-form-urlencoded\u001b[39m\u001b[39m'\u001b[39m\n\u001b[1;32m   2467\u001b[0m                        }\n",
      "\u001b[0;31mTypeError\u001b[0m: can only concatenate str (not \"NoneType\") to str"
     ]
    }
   ],
   "source": [
    "import sys\n",
    "import os\n",
    "import dotenv\n",
    "from pathlib import Path\n",
    "path = Path(os.path.abspath(os.curdir))\n",
    "env =  str(path.parent.absolute()) + \"/src/.env\"\n",
    "config = dotenv.dotenv_values(env)\n",
    "sys.path.insert(0, os.path.abspath('..'))\n",
    "from src.config import ForexPairEnum, PeriodEnum, OrderTypeEnum\n",
    "from src.fxcm_connect.fxcm_connect import FXCMConnect\n",
    "from src.data.data import Data\n",
    "fxcm = FXCMConnect(config)\n",
    "\n",
    "data = fxcm.get_candle_data(ForexPairEnum.USDCAD, PeriodEnum.HOUR_1)\n",
    "data_obj = Data(data)\n",
    "data = data_obj.get_refined_data()"
   ]
  },
  {
   "cell_type": "code",
   "execution_count": 1,
   "metadata": {},
   "outputs": [
    {
     "ename": "ModuleNotFoundError",
     "evalue": "No module named 'src'",
     "output_type": "error",
     "traceback": [
      "\u001b[0;31m---------------------------------------------------------------------------\u001b[0m",
      "\u001b[0;31mModuleNotFoundError\u001b[0m                       Traceback (most recent call last)",
      "Cell \u001b[0;32mIn[1], line 1\u001b[0m\n\u001b[0;32m----> 1\u001b[0m \u001b[39mfrom\u001b[39;00m \u001b[39msrc\u001b[39;00m\u001b[39m.\u001b[39;00m\u001b[39mconfig\u001b[39;00m \u001b[39mimport\u001b[39;00m ForexPairEnum, PeriodEnum, OrderTypeEnum\n",
      "\u001b[0;31mModuleNotFoundError\u001b[0m: No module named 'src'"
     ]
    }
   ],
   "source": [
    "from src.config import ForexPairEnum, PeriodEnum, OrderTypeEnum"
   ]
  },
  {
   "cell_type": "code",
   "execution_count": null,
   "metadata": {},
   "outputs": [],
   "source": [
    "data"
   ]
  },
  {
   "cell_type": "code",
   "execution_count": 3,
   "metadata": {},
   "outputs": [
    {
     "ename": "NameError",
     "evalue": "name 'fxcm' is not defined",
     "output_type": "error",
     "traceback": [
      "\u001b[0;31m---------------------------------------------------------------------------\u001b[0m",
      "\u001b[0;31mNameError\u001b[0m                                 Traceback (most recent call last)",
      "Cell \u001b[0;32mIn[3], line 1\u001b[0m\n\u001b[0;32m----> 1\u001b[0m fxcm\u001b[39m.\u001b[39mopen_trade(instrument\u001b[39m=\u001b[39mForexPairEnum\u001b[39m.\u001b[39mUSDCAD, is_buy\u001b[39m=\u001b[39m\u001b[39mTrue\u001b[39;00m, is_pips\u001b[39m=\u001b[39m\u001b[39mTrue\u001b[39;00m, stop\u001b[39m=\u001b[39m\u001b[39m8\u001b[39m, limit\u001b[39m=\u001b[39m\u001b[39m8\u001b[39m, amount\u001b[39m=\u001b[39m\u001b[39m1\u001b[39m, order_type\u001b[39m=\u001b[39mOrderTypeEnum\u001b[39m.\u001b[39mAT_MARKET)\n",
      "\u001b[0;31mNameError\u001b[0m: name 'fxcm' is not defined"
     ]
    }
   ],
   "source": [
    "fxcm.open_trade(instrument=ForexPairEnum.USDCAD, is_buy=True, is_pips=True, stop=8, limit=8, amount=1, order_type=OrderTypeEnum.AT_MARKET)\n",
    "\n"
   ]
  },
  {
   "cell_type": "code",
   "execution_count": null,
   "metadata": {},
   "outputs": [],
   "source": [
    "from src.indicators.indicators import Indicators\n",
    "\n",
    "ind = Indicators()\n",
    "bollinger = ind.get_bollinger(data)"
   ]
  },
  {
   "cell_type": "code",
   "execution_count": null,
   "metadata": {},
   "outputs": [],
   "source": [
    "from pylab import plt\n",
    "plt.style.use('seaborn')\n",
    "%matplotlib inline\n",
    "data.drop(\"tickqty\", inplace=True, axis=1)\n",
    "data.plot(figsize=(10, 6), lw=0.8);"
   ]
  }
 ],
 "metadata": {
  "kernelspec": {
   "display_name": "Python 3",
   "language": "python",
   "name": "python3"
  },
  "language_info": {
   "codemirror_mode": {
    "name": "ipython",
    "version": 3
   },
   "file_extension": ".py",
   "mimetype": "text/x-python",
   "name": "python",
   "nbconvert_exporter": "python",
   "pygments_lexer": "ipython3",
   "version": "3.11.1"
  },
  "orig_nbformat": 4,
  "vscode": {
   "interpreter": {
    "hash": "aee8b7b246df8f9039afb4144a1f6fd8d2ca17a180786b69acc140d282b71a49"
   }
  }
 },
 "nbformat": 4,
 "nbformat_minor": 2
}
